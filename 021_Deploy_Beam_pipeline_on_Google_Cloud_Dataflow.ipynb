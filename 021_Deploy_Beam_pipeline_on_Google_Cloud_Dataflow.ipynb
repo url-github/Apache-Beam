{
  "nbformat": 4,
  "nbformat_minor": 0,
  "metadata": {
    "colab": {
      "provenance": [],
      "toc_visible": true,
      "authorship_tag": "ABX9TyNmhs9V0yx6eElfhjcd78a8"
    },
    "kernelspec": {
      "name": "python3",
      "display_name": "Python 3"
    },
    "language_info": {
      "name": "python"
    }
  },
  "cells": [
    {
      "cell_type": "markdown",
      "source": [
        "#Setup"
      ],
      "metadata": {
        "id": "RHca4cPmVHOP"
      }
    },
    {
      "cell_type": "code",
      "execution_count": null,
      "metadata": {
        "id": "XT3HNrTsU5Em"
      },
      "outputs": [],
      "source": [
        "!pip install apache-beam"
      ]
    },
    {
      "cell_type": "code",
      "source": [
        "import apache_beam as beam\n",
        "from apache_beam.options.pipeline_options import PipelineOptions, StandardOptions\n",
        "import argparse\n",
        "\n",
        "parser = argparse.ArgumentParser()\n",
        "\n",
        "parser.add_argument('--input',\n",
        "                      dest='input',\n",
        "                      required=True,\n",
        "                      help='Input file to process.')\n",
        "parser.add_argument('--output',\n",
        "                      dest='output',\n",
        "                      required=True,\n",
        "                      help='Output file to write results to.')\n",
        "\n",
        "path_args, pipeline_args = parser.parse_known_args()\n",
        "\n",
        "inputs_pattern = path_args.input\n",
        "outputs_prefix = path_args.output\n",
        "\n",
        "\n",
        "options = PipelineOptions(pipeline_args)\n",
        "p = beam.Pipeline(options=options)\n",
        "\n",
        "attendance_count =   (\n",
        "                          p\n",
        "                          | 'Read lines' >> beam.io.ReadFromText(inputs_pattern)\n",
        "                          | 'Split row' >> beam.Map(lambda record: record.split(','))\n",
        "                          | 'Get all Accounts Dept Persons' >> beam.Filter(lambda record: record[3] == 'Accounts')\n",
        "                          | 'Pair each employee with 1' >> beam.Map(lambda record: (record[1], 1))\n",
        "                          | 'Group and sum' >> beam.CombinePerKey(sum)\n",
        "                          | 'Format results' >> beam.Map(lambda employee_count: str(employee_count))\n",
        "                          | 'Write results' >> beam.io.WriteToText(outputs_prefix)\n",
        "                      )\n",
        "\n",
        "p.run()"
      ],
      "metadata": {
        "id": "_Mvzx_suVNuO"
      },
      "execution_count": null,
      "outputs": []
    },
    {
      "cell_type": "code",
      "source": [
        "import apache_beam as beam  # Importujemy Apache Beam, bibliotekę do przetwarzania danych w potokach.\n",
        "from apache_beam.options.pipeline_options import PipelineOptions, StandardOptions  # Importujemy opcje konfiguracyjne dla potoku.\n",
        "import argparse  # Importujemy argparse do obsługi argumentów wiersza poleceń.\n",
        "\n",
        "# Tworzymy parser argumentów CLI, który pozwoli przekazać parametry wejściowe i wyjściowe.\n",
        "parser = argparse.ArgumentParser()\n",
        "\n",
        "# Dodajemy argument '--input', który określa ścieżkę do pliku wejściowego.\n",
        "parser.add_argument('--input',\n",
        "                      dest='input',       # Nazwa argumentu, do której przypiszemy wartość.\n",
        "                      required=True,      # Argument jest wymagany - jeśli go nie podamy, skrypt się nie uruchomi.\n",
        "                      help='Input file to process.')  # Opis wyświetlany w pomocy (-h).\n",
        "\n",
        "# Dodajemy argument '--output', który określa ścieżkę do pliku wyjściowego.\n",
        "parser.add_argument('--output',\n",
        "                      dest='output',      # Nazwa argumentu.\n",
        "                      required=True,      # Argument jest wymagany.\n",
        "                      help='Output file to write results to.')  # Opis argumentu.\n",
        "\n",
        "# Parsujemy argumenty CLI. `path_args` zawiera nasze argumenty wejścia i wyjścia,\n",
        "# a `pipeline_args` przechowuje dodatkowe opcje konfiguracyjne dla Beam.\n",
        "path_args, pipeline_args = parser.parse_known_args()\n",
        "\n",
        "# Przypisujemy wartości argumentów CLI do zmiennych.\n",
        "inputs_pattern = path_args.input    # Pobieramy wartość argumentu `--input` (ścieżka wejściowa).\n",
        "outputs_prefix = path_args.output   # Pobieramy wartość argumentu `--output` (ścieżka wyjściowa).\n",
        "\n",
        "# Tworzymy obiekt PipelineOptions, który przechowuje konfigurację potoku (np. runner, temp location).\n",
        "options = PipelineOptions(pipeline_args)\n",
        "\n",
        "# Tworzymy obiekt potoku Beam i przekazujemy mu opcje konfiguracji.\n",
        "p = beam.Pipeline(options=options)\n",
        "\n",
        "# Definiujemy potok przetwarzania danych.\n",
        "attendance_count =   (\n",
        "                          p\n",
        "                          | 'Read lines' >> beam.io.ReadFromText(inputs_pattern)\n",
        "                          # Odczytujemy linie z pliku wejściowego.\n",
        "                          | 'Split row' >> beam.Map(lambda record: record.split(','))\n",
        "                          # Dzielimy każdą linię na listę wartości po przecinku.\n",
        "                          | 'Get all Accounts Dept Persons' >> beam.Filter(lambda record: record[3] == 'Accounts')\n",
        "                          # Filtrujemy osoby z działu \"Accounts\".\n",
        "                          | 'Pair each employee with 1' >> beam.Map(lambda record: (record[1], 1))\n",
        "                          # Tworzymy pary (nazwa_pracownika, 1).\n",
        "                          | 'Group and sum' >> beam.CombinePerKey(sum)\n",
        "                          # Grupujemy według nazwiska i sumujemy wartości (liczymy wystąpienia pracowników).\n",
        "                          | 'Format results' >> beam.Map(lambda employee_count: str(employee_count))\n",
        "                          # Konwertujemy wynik na string do zapisania.\n",
        "                          | 'Write results' >> beam.io.WriteToText(outputs_prefix)\n",
        "                          # Zapisujemy wyniki do pliku wyjściowego.\n",
        "                      )\n",
        "\n",
        "# Uruchamiamy potok.\n",
        "p.run()"
      ],
      "metadata": {
        "id": "pRT8qgc6dHsl"
      },
      "execution_count": null,
      "outputs": []
    },
    {
      "cell_type": "code",
      "source": [
        "python beam_pipeline.py \\\n",
        "    --runner DataflowRunner \\\n",
        "    --project MOJ_PROJEKT \\\n",
        "    --region us-central1 \\\n",
        "    --input gs://$BUCKET_NAME/input.csv \\\n",
        "    --output gs://$BUCKET_NAME/output \\\n",
        "    --temp_location gs://$BUCKET_NAME/temp \\\n",
        "    --staging_location gs://$BUCKET_NAME/staging"
      ],
      "metadata": {
        "id": "5tzUzVi6la5G"
      },
      "execution_count": null,
      "outputs": []
    }
  ]
}