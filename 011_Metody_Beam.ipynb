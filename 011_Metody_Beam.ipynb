{
  "nbformat": 4,
  "nbformat_minor": 0,
  "metadata": {
    "colab": {
      "provenance": [],
      "toc_visible": true
    },
    "kernelspec": {
      "name": "python3",
      "display_name": "Python 3"
    },
    "language_info": {
      "name": "python"
    }
  },
  "cells": [
    {
      "cell_type": "markdown",
      "source": [
        "#Setup"
      ],
      "metadata": {
        "id": "MaF0nm6_xvC0"
      }
    },
    {
      "cell_type": "code",
      "execution_count": 1,
      "metadata": {
        "colab": {
          "base_uri": "https://localhost:8080/"
        },
        "id": "kaldYzhFxuJS",
        "outputId": "3546f1d8-edad-4f57-88ef-2b958c92f471"
      },
      "outputs": [
        {
          "output_type": "stream",
          "name": "stdout",
          "text": [
            "Collecting apache-beam\n",
            "  Downloading apache_beam-2.61.0-cp310-cp310-manylinux_2_17_x86_64.manylinux2014_x86_64.whl.metadata (7.4 kB)\n",
            "Collecting crcmod<2.0,>=1.7 (from apache-beam)\n",
            "  Downloading crcmod-1.7.tar.gz (89 kB)\n",
            "\u001b[2K     \u001b[90m━━━━━━━━━━━━━━━━━━━━━━━━━━━━━━━━━━━━━━━━\u001b[0m \u001b[32m89.7/89.7 kB\u001b[0m \u001b[31m2.2 MB/s\u001b[0m eta \u001b[36m0:00:00\u001b[0m\n",
            "\u001b[?25h  Preparing metadata (setup.py) ... \u001b[?25l\u001b[?25hdone\n",
            "Requirement already satisfied: orjson<4,>=3.9.7 in /usr/local/lib/python3.10/dist-packages (from apache-beam) (3.10.12)\n",
            "Collecting dill<0.3.2,>=0.3.1.1 (from apache-beam)\n",
            "  Downloading dill-0.3.1.1.tar.gz (151 kB)\n",
            "\u001b[2K     \u001b[90m━━━━━━━━━━━━━━━━━━━━━━━━━━━━━━━━━━━━━━━━\u001b[0m \u001b[32m152.0/152.0 kB\u001b[0m \u001b[31m6.2 MB/s\u001b[0m eta \u001b[36m0:00:00\u001b[0m\n",
            "\u001b[?25h  Preparing metadata (setup.py) ... \u001b[?25l\u001b[?25hdone\n",
            "Collecting cloudpickle~=2.2.1 (from apache-beam)\n",
            "  Downloading cloudpickle-2.2.1-py3-none-any.whl.metadata (6.9 kB)\n",
            "Collecting fastavro<2,>=0.23.6 (from apache-beam)\n",
            "  Downloading fastavro-1.10.0-cp310-cp310-manylinux_2_17_x86_64.manylinux2014_x86_64.whl.metadata (5.5 kB)\n",
            "Collecting fasteners<1.0,>=0.3 (from apache-beam)\n",
            "  Downloading fasteners-0.19-py3-none-any.whl.metadata (4.9 kB)\n",
            "Collecting grpcio!=1.48.0,!=1.59.*,!=1.60.*,!=1.61.*,!=1.62.0,!=1.62.1,<1.66.0,<2,>=1.33.1 (from apache-beam)\n",
            "  Downloading grpcio-1.65.5-cp310-cp310-manylinux_2_17_x86_64.manylinux2014_x86_64.whl.metadata (3.3 kB)\n",
            "Collecting hdfs<3.0.0,>=2.1.0 (from apache-beam)\n",
            "  Downloading hdfs-2.7.3.tar.gz (43 kB)\n",
            "\u001b[2K     \u001b[90m━━━━━━━━━━━━━━━━━━━━━━━━━━━━━━━━━━━━━━━━\u001b[0m \u001b[32m43.5/43.5 kB\u001b[0m \u001b[31m3.2 MB/s\u001b[0m eta \u001b[36m0:00:00\u001b[0m\n",
            "\u001b[?25h  Preparing metadata (setup.py) ... \u001b[?25l\u001b[?25hdone\n",
            "Requirement already satisfied: httplib2<0.23.0,>=0.8 in /usr/local/lib/python3.10/dist-packages (from apache-beam) (0.22.0)\n",
            "Requirement already satisfied: jsonschema<5.0.0,>=4.0.0 in /usr/local/lib/python3.10/dist-packages (from apache-beam) (4.23.0)\n",
            "Collecting jsonpickle<4.0.0,>=3.0.0 (from apache-beam)\n",
            "  Downloading jsonpickle-3.4.2-py3-none-any.whl.metadata (8.1 kB)\n",
            "Requirement already satisfied: numpy<2.2.0,>=1.14.3 in /usr/local/lib/python3.10/dist-packages (from apache-beam) (1.26.4)\n",
            "Collecting objsize<0.8.0,>=0.6.1 (from apache-beam)\n",
            "  Downloading objsize-0.7.0-py3-none-any.whl.metadata (12 kB)\n",
            "Requirement already satisfied: packaging>=22.0 in /usr/local/lib/python3.10/dist-packages (from apache-beam) (24.2)\n",
            "Collecting pymongo<5.0.0,>=3.8.0 (from apache-beam)\n",
            "  Downloading pymongo-4.10.1-cp310-cp310-manylinux_2_17_x86_64.manylinux2014_x86_64.whl.metadata (22 kB)\n",
            "Requirement already satisfied: proto-plus<2,>=1.7.1 in /usr/local/lib/python3.10/dist-packages (from apache-beam) (1.25.0)\n",
            "Requirement already satisfied: protobuf!=4.0.*,!=4.21.*,!=4.22.0,!=4.23.*,!=4.24.*,<6.0.0.dev0,>=3.20.3 in /usr/local/lib/python3.10/dist-packages (from apache-beam) (4.25.5)\n",
            "Collecting pydot<2,>=1.2.0 (from apache-beam)\n",
            "  Downloading pydot-1.4.2-py2.py3-none-any.whl.metadata (8.0 kB)\n",
            "Requirement already satisfied: python-dateutil<3,>=2.8.0 in /usr/local/lib/python3.10/dist-packages (from apache-beam) (2.8.2)\n",
            "Requirement already satisfied: pytz>=2018.3 in /usr/local/lib/python3.10/dist-packages (from apache-beam) (2024.2)\n",
            "Collecting redis<6,>=5.0.0 (from apache-beam)\n",
            "  Downloading redis-5.2.1-py3-none-any.whl.metadata (9.1 kB)\n",
            "Requirement already satisfied: regex>=2020.6.8 in /usr/local/lib/python3.10/dist-packages (from apache-beam) (2024.11.6)\n",
            "Requirement already satisfied: requests<3.0.0,>=2.24.0 in /usr/local/lib/python3.10/dist-packages (from apache-beam) (2.32.3)\n",
            "Collecting sortedcontainers>=2.4.0 (from apache-beam)\n",
            "  Downloading sortedcontainers-2.4.0-py2.py3-none-any.whl.metadata (10 kB)\n",
            "Requirement already satisfied: typing-extensions>=3.7.0 in /usr/local/lib/python3.10/dist-packages (from apache-beam) (4.12.2)\n",
            "Collecting zstandard<1,>=0.18.0 (from apache-beam)\n",
            "  Downloading zstandard-0.23.0-cp310-cp310-manylinux_2_17_x86_64.manylinux2014_x86_64.whl.metadata (3.0 kB)\n",
            "Requirement already satisfied: pyyaml<7.0.0,>=3.12 in /usr/local/lib/python3.10/dist-packages (from apache-beam) (6.0.2)\n",
            "Collecting pyarrow<17.0.0,>=3.0.0 (from apache-beam)\n",
            "  Downloading pyarrow-16.1.0-cp310-cp310-manylinux_2_28_x86_64.whl.metadata (3.0 kB)\n",
            "Collecting pyarrow-hotfix<1 (from apache-beam)\n",
            "  Downloading pyarrow_hotfix-0.6-py3-none-any.whl.metadata (3.6 kB)\n",
            "Collecting docopt (from hdfs<3.0.0,>=2.1.0->apache-beam)\n",
            "  Downloading docopt-0.6.2.tar.gz (25 kB)\n",
            "  Preparing metadata (setup.py) ... \u001b[?25l\u001b[?25hdone\n",
            "Requirement already satisfied: six>=1.9.0 in /usr/local/lib/python3.10/dist-packages (from hdfs<3.0.0,>=2.1.0->apache-beam) (1.17.0)\n",
            "Requirement already satisfied: pyparsing!=3.0.0,!=3.0.1,!=3.0.2,!=3.0.3,<4,>=2.4.2 in /usr/local/lib/python3.10/dist-packages (from httplib2<0.23.0,>=0.8->apache-beam) (3.2.0)\n",
            "Requirement already satisfied: attrs>=22.2.0 in /usr/local/lib/python3.10/dist-packages (from jsonschema<5.0.0,>=4.0.0->apache-beam) (24.3.0)\n",
            "Requirement already satisfied: jsonschema-specifications>=2023.03.6 in /usr/local/lib/python3.10/dist-packages (from jsonschema<5.0.0,>=4.0.0->apache-beam) (2024.10.1)\n",
            "Requirement already satisfied: referencing>=0.28.4 in /usr/local/lib/python3.10/dist-packages (from jsonschema<5.0.0,>=4.0.0->apache-beam) (0.35.1)\n",
            "Requirement already satisfied: rpds-py>=0.7.1 in /usr/local/lib/python3.10/dist-packages (from jsonschema<5.0.0,>=4.0.0->apache-beam) (0.22.3)\n",
            "Collecting dnspython<3.0.0,>=1.16.0 (from pymongo<5.0.0,>=3.8.0->apache-beam)\n",
            "  Downloading dnspython-2.7.0-py3-none-any.whl.metadata (5.8 kB)\n",
            "Requirement already satisfied: async-timeout>=4.0.3 in /usr/local/lib/python3.10/dist-packages (from redis<6,>=5.0.0->apache-beam) (4.0.3)\n",
            "Requirement already satisfied: charset-normalizer<4,>=2 in /usr/local/lib/python3.10/dist-packages (from requests<3.0.0,>=2.24.0->apache-beam) (3.4.0)\n",
            "Requirement already satisfied: idna<4,>=2.5 in /usr/local/lib/python3.10/dist-packages (from requests<3.0.0,>=2.24.0->apache-beam) (3.10)\n",
            "Requirement already satisfied: urllib3<3,>=1.21.1 in /usr/local/lib/python3.10/dist-packages (from requests<3.0.0,>=2.24.0->apache-beam) (2.2.3)\n",
            "Requirement already satisfied: certifi>=2017.4.17 in /usr/local/lib/python3.10/dist-packages (from requests<3.0.0,>=2.24.0->apache-beam) (2024.12.14)\n",
            "Downloading apache_beam-2.61.0-cp310-cp310-manylinux_2_17_x86_64.manylinux2014_x86_64.whl (15.8 MB)\n",
            "\u001b[2K   \u001b[90m━━━━━━━━━━━━━━━━━━━━━━━━━━━━━━━━━━━━━━━━\u001b[0m \u001b[32m15.8/15.8 MB\u001b[0m \u001b[31m10.7 MB/s\u001b[0m eta \u001b[36m0:00:00\u001b[0m\n",
            "\u001b[?25hDownloading cloudpickle-2.2.1-py3-none-any.whl (25 kB)\n",
            "Downloading fastavro-1.10.0-cp310-cp310-manylinux_2_17_x86_64.manylinux2014_x86_64.whl (3.1 MB)\n",
            "\u001b[2K   \u001b[90m━━━━━━━━━━━━━━━━━━━━━━━━━━━━━━━━━━━━━━━━\u001b[0m \u001b[32m3.1/3.1 MB\u001b[0m \u001b[31m82.6 MB/s\u001b[0m eta \u001b[36m0:00:00\u001b[0m\n",
            "\u001b[?25hDownloading fasteners-0.19-py3-none-any.whl (18 kB)\n",
            "Downloading grpcio-1.65.5-cp310-cp310-manylinux_2_17_x86_64.manylinux2014_x86_64.whl (5.7 MB)\n",
            "\u001b[2K   \u001b[90m━━━━━━━━━━━━━━━━━━━━━━━━━━━━━━━━━━━━━━━━\u001b[0m \u001b[32m5.7/5.7 MB\u001b[0m \u001b[31m35.4 MB/s\u001b[0m eta \u001b[36m0:00:00\u001b[0m\n",
            "\u001b[?25hDownloading jsonpickle-3.4.2-py3-none-any.whl (46 kB)\n",
            "\u001b[2K   \u001b[90m━━━━━━━━━━━━━━━━━━━━━━━━━━━━━━━━━━━━━━━━\u001b[0m \u001b[32m46.3/46.3 kB\u001b[0m \u001b[31m3.6 MB/s\u001b[0m eta \u001b[36m0:00:00\u001b[0m\n",
            "\u001b[?25hDownloading objsize-0.7.0-py3-none-any.whl (11 kB)\n",
            "Downloading pyarrow-16.1.0-cp310-cp310-manylinux_2_28_x86_64.whl (40.8 MB)\n",
            "\u001b[2K   \u001b[90m━━━━━━━━━━━━━━━━━━━━━━━━━━━━━━━━━━━━━━━━\u001b[0m \u001b[32m40.8/40.8 MB\u001b[0m \u001b[31m17.0 MB/s\u001b[0m eta \u001b[36m0:00:00\u001b[0m\n",
            "\u001b[?25hDownloading pyarrow_hotfix-0.6-py3-none-any.whl (7.9 kB)\n",
            "Downloading pydot-1.4.2-py2.py3-none-any.whl (21 kB)\n",
            "Downloading pymongo-4.10.1-cp310-cp310-manylinux_2_17_x86_64.manylinux2014_x86_64.whl (1.4 MB)\n",
            "\u001b[2K   \u001b[90m━━━━━━━━━━━━━━━━━━━━━━━━━━━━━━━━━━━━━━━━\u001b[0m \u001b[32m1.4/1.4 MB\u001b[0m \u001b[31m56.4 MB/s\u001b[0m eta \u001b[36m0:00:00\u001b[0m\n",
            "\u001b[?25hDownloading redis-5.2.1-py3-none-any.whl (261 kB)\n",
            "\u001b[2K   \u001b[90m━━━━━━━━━━━━━━━━━━━━━━━━━━━━━━━━━━━━━━━━\u001b[0m \u001b[32m261.5/261.5 kB\u001b[0m \u001b[31m20.0 MB/s\u001b[0m eta \u001b[36m0:00:00\u001b[0m\n",
            "\u001b[?25hDownloading sortedcontainers-2.4.0-py2.py3-none-any.whl (29 kB)\n",
            "Downloading zstandard-0.23.0-cp310-cp310-manylinux_2_17_x86_64.manylinux2014_x86_64.whl (5.4 MB)\n",
            "\u001b[2K   \u001b[90m━━━━━━━━━━━━━━━━━━━━━━━━━━━━━━━━━━━━━━━━\u001b[0m \u001b[32m5.4/5.4 MB\u001b[0m \u001b[31m82.8 MB/s\u001b[0m eta \u001b[36m0:00:00\u001b[0m\n",
            "\u001b[?25hDownloading dnspython-2.7.0-py3-none-any.whl (313 kB)\n",
            "\u001b[2K   \u001b[90m━━━━━━━━━━━━━━━━━━━━━━━━━━━━━━━━━━━━━━━━\u001b[0m \u001b[32m313.6/313.6 kB\u001b[0m \u001b[31m24.0 MB/s\u001b[0m eta \u001b[36m0:00:00\u001b[0m\n",
            "\u001b[?25hBuilding wheels for collected packages: crcmod, dill, hdfs, docopt\n",
            "  Building wheel for crcmod (setup.py) ... \u001b[?25l\u001b[?25hdone\n",
            "  Created wheel for crcmod: filename=crcmod-1.7-cp310-cp310-linux_x86_64.whl size=31406 sha256=25930fadfd7372f750445ae0b564a0781c2be7da3a17805fec60e22153b57c70\n",
            "  Stored in directory: /root/.cache/pip/wheels/85/4c/07/72215c529bd59d67e3dac29711d7aba1b692f543c808ba9e86\n",
            "  Building wheel for dill (setup.py) ... \u001b[?25l\u001b[?25hdone\n",
            "  Created wheel for dill: filename=dill-0.3.1.1-py3-none-any.whl size=78542 sha256=294c5021e0e81365bb679fbe186d1d36046d2bbb32796f5b7d4ce9bf5ec05255\n",
            "  Stored in directory: /root/.cache/pip/wheels/ea/e2/86/64980d90e297e7bf2ce588c2b96e818f5399c515c4bb8a7e4f\n",
            "  Building wheel for hdfs (setup.py) ... \u001b[?25l\u001b[?25hdone\n",
            "  Created wheel for hdfs: filename=hdfs-2.7.3-py3-none-any.whl size=34324 sha256=2bd53da52965d5734c8ebd8ce792cc0c360fd21a85c3595ab616e9e6648e81a6\n",
            "  Stored in directory: /root/.cache/pip/wheels/e5/8d/b6/99c1c0a3ac5788c866b0ecd3f48b0134a5910e6ed26011800b\n",
            "  Building wheel for docopt (setup.py) ... \u001b[?25l\u001b[?25hdone\n",
            "  Created wheel for docopt: filename=docopt-0.6.2-py2.py3-none-any.whl size=13706 sha256=b828a3805cecf489cae07bfaac664da34c1dcc52bc5363d89eb129e49873458c\n",
            "  Stored in directory: /root/.cache/pip/wheels/fc/ab/d4/5da2067ac95b36618c629a5f93f809425700506f72c9732fac\n",
            "Successfully built crcmod dill hdfs docopt\n",
            "Installing collected packages: sortedcontainers, docopt, crcmod, zstandard, redis, pydot, pyarrow-hotfix, pyarrow, objsize, jsonpickle, grpcio, fasteners, fastavro, dnspython, dill, cloudpickle, pymongo, hdfs, apache-beam\n",
            "  Attempting uninstall: pydot\n",
            "    Found existing installation: pydot 3.0.3\n",
            "    Uninstalling pydot-3.0.3:\n",
            "      Successfully uninstalled pydot-3.0.3\n",
            "  Attempting uninstall: pyarrow\n",
            "    Found existing installation: pyarrow 17.0.0\n",
            "    Uninstalling pyarrow-17.0.0:\n",
            "      Successfully uninstalled pyarrow-17.0.0\n",
            "  Attempting uninstall: jsonpickle\n",
            "    Found existing installation: jsonpickle 4.0.1\n",
            "    Uninstalling jsonpickle-4.0.1:\n",
            "      Successfully uninstalled jsonpickle-4.0.1\n",
            "  Attempting uninstall: grpcio\n",
            "    Found existing installation: grpcio 1.68.1\n",
            "    Uninstalling grpcio-1.68.1:\n",
            "      Successfully uninstalled grpcio-1.68.1\n",
            "  Attempting uninstall: cloudpickle\n",
            "    Found existing installation: cloudpickle 3.1.0\n",
            "    Uninstalling cloudpickle-3.1.0:\n",
            "      Successfully uninstalled cloudpickle-3.1.0\n",
            "\u001b[31mERROR: pip's dependency resolver does not currently take into account all the packages that are installed. This behaviour is the source of the following dependency conflicts.\n",
            "dask 2024.10.0 requires cloudpickle>=3.0.0, but you have cloudpickle 2.2.1 which is incompatible.\u001b[0m\u001b[31m\n",
            "\u001b[0mSuccessfully installed apache-beam-2.61.0 cloudpickle-2.2.1 crcmod-1.7 dill-0.3.1.1 dnspython-2.7.0 docopt-0.6.2 fastavro-1.10.0 fasteners-0.19 grpcio-1.65.5 hdfs-2.7.3 jsonpickle-3.4.2 objsize-0.7.0 pyarrow-16.1.0 pyarrow-hotfix-0.6 pydot-1.4.2 pymongo-4.10.1 redis-5.2.1 sortedcontainers-2.4.0 zstandard-0.23.0\n"
          ]
        }
      ],
      "source": [
        "!pip install apache-beam"
      ]
    },
    {
      "cell_type": "code",
      "source": [
        "import apache_beam as beam\n",
        "import numpy as np\n",
        "import time"
      ],
      "metadata": {
        "id": "cvU0OMLkydfW"
      },
      "execution_count": 2,
      "outputs": []
    },
    {
      "cell_type": "markdown",
      "source": [
        "#beam.Map\n",
        "\n",
        "Gdy potrzebujesz wykonać prostą transformację na każdym elemencie (np. zmiana formatu, obliczenia, mapowanie)."
      ],
      "metadata": {
        "id": "IapR8K7hyM7W"
      }
    },
    {
      "cell_type": "code",
      "source": [
        "dane_testowe = [\n",
        "        {'id': i, 'wartosc': np.random.randint(1, 10), 'tekst': f\"Hello world {i}\"}\n",
        "        for i in range(3)\n",
        "    ]\n",
        "\n",
        "dane_testowe"
      ],
      "metadata": {
        "colab": {
          "base_uri": "https://localhost:8080/"
        },
        "id": "jkjCeLJSzsYa",
        "outputId": "5ff129d8-9823-41fe-da4d-3e0eaac0740a"
      },
      "execution_count": 9,
      "outputs": [
        {
          "output_type": "execute_result",
          "data": {
            "text/plain": [
              "[{'id': 0, 'wartosc': 9, 'tekst': 'Hello world 0'},\n",
              " {'id': 1, 'wartosc': 8, 'tekst': 'Hello world 1'},\n",
              " {'id': 2, 'wartosc': 8, 'tekst': 'Hello world 2'}]"
            ]
          },
          "metadata": {},
          "execution_count": 9
        }
      ]
    },
    {
      "cell_type": "code",
      "source": [
        "def beam_test():\n",
        "\n",
        "    with beam.Pipeline() as pipeline:\n",
        "        wynik_map = (\n",
        "            pipeline\n",
        "            | 'Tworzenie danych' >> beam.Create(dane_testowe)\n",
        "            | 'Map - Pomnożenie przez 2' >> beam.Map(lambda x: {'id': x['id'], 'wartosc': x['wartosc'] * 100, 'tekst': x['tekst']})\n",
        "            | 'Wyświetlenie Map wyników' >> beam.Map(print)\n",
        "        )\n",
        "\n",
        "if __name__ == \"__main__\":\n",
        "    beam_test()"
      ],
      "metadata": {
        "colab": {
          "base_uri": "https://localhost:8080/"
        },
        "id": "onuHy2c7yNyz",
        "outputId": "2b394170-6d57-420a-f587-e85fc999fef1"
      },
      "execution_count": 10,
      "outputs": [
        {
          "output_type": "stream",
          "name": "stdout",
          "text": [
            "{'id': 0, 'wartosc': 900, 'tekst': 'Hello world 0'}\n",
            "{'id': 1, 'wartosc': 800, 'tekst': 'Hello world 1'}\n",
            "{'id': 2, 'wartosc': 800, 'tekst': 'Hello world 2'}\n"
          ]
        }
      ]
    },
    {
      "cell_type": "markdown",
      "source": [
        "#beam.FlatMap\n",
        "\n",
        "Gdy chcesz rozdzielić dane (np. rozdzielenie linii tekstu na słowa)."
      ],
      "metadata": {
        "id": "pC8Xl_-Ez_Sn"
      }
    },
    {
      "cell_type": "code",
      "source": [
        "dane_testowe = [\n",
        "        {'id': i, 'wartosc': np.random.randint(1, 10), 'tekst': f\"Hello world {i}\"}\n",
        "        for i in range(3)\n",
        "    ]\n",
        "\n",
        "dane_testowe"
      ],
      "metadata": {
        "colab": {
          "base_uri": "https://localhost:8080/"
        },
        "id": "5fRBadiw0brR",
        "outputId": "0bc087a3-43ad-401b-9e18-7467c2e5db00"
      },
      "execution_count": 17,
      "outputs": [
        {
          "output_type": "execute_result",
          "data": {
            "text/plain": [
              "[{'id': 0, 'wartosc': 7, 'tekst': 'Hello world 0'},\n",
              " {'id': 1, 'wartosc': 8, 'tekst': 'Hello world 1'},\n",
              " {'id': 2, 'wartosc': 8, 'tekst': 'Hello world 2'}]"
            ]
          },
          "metadata": {},
          "execution_count": 17
        }
      ]
    },
    {
      "cell_type": "code",
      "source": [
        "def beam_test():\n",
        "\n",
        "    with beam.Pipeline() as pipeline:\n",
        "\n",
        "        wynik_flatmap = (\n",
        "            pipeline\n",
        "            | 'Tworzenie danych' >> beam.Create(dane_testowe)\n",
        "            | 'FlatMap - Podział na słowa' >> beam.FlatMap(lambda x: x['tekst'].split())\n",
        "            | 'Wyświetlenie FlatMap wyników' >> beam.Map(print)\n",
        "        )\n",
        "\n",
        "if __name__ == \"__main__\":\n",
        "    beam_test()"
      ],
      "metadata": {
        "colab": {
          "base_uri": "https://localhost:8080/"
        },
        "id": "jKapRb-zz5cr",
        "outputId": "baa27610-9568-4207-c7cc-333f02f7c615"
      },
      "execution_count": 18,
      "outputs": [
        {
          "output_type": "stream",
          "name": "stdout",
          "text": [
            "Hello\n",
            "world\n",
            "0\n",
            "Hello\n",
            "world\n",
            "1\n",
            "Hello\n",
            "world\n",
            "2\n"
          ]
        }
      ]
    },
    {
      "cell_type": "markdown",
      "source": [
        "#beam.Filter\n",
        "\n",
        "Gdy potrzebujesz odfiltrować elementy na podstawie warunku."
      ],
      "metadata": {
        "id": "JrSQkA_R06o-"
      }
    },
    {
      "cell_type": "code",
      "source": [
        "dane_testowe = [\n",
        "        {'id': i, 'wartosc': np.random.randint(1, 10), 'tekst': f\"Hello world {i}\"}\n",
        "        for i in range(3)\n",
        "    ]\n",
        "\n",
        "dane_testowe"
      ],
      "metadata": {
        "colab": {
          "base_uri": "https://localhost:8080/"
        },
        "id": "sH9jnGNF1Kek",
        "outputId": "92587a2c-3e7c-4bc8-f384-6739a8af5116"
      },
      "execution_count": 25,
      "outputs": [
        {
          "output_type": "execute_result",
          "data": {
            "text/plain": [
              "[{'id': 0, 'wartosc': 3, 'tekst': 'Hello world 0'},\n",
              " {'id': 1, 'wartosc': 7, 'tekst': 'Hello world 1'},\n",
              " {'id': 2, 'wartosc': 4, 'tekst': 'Hello world 2'}]"
            ]
          },
          "metadata": {},
          "execution_count": 25
        }
      ]
    },
    {
      "cell_type": "code",
      "source": [
        "def beam_test():\n",
        "\n",
        "    with beam.Pipeline() as pipeline:\n",
        "        wynik_filter = (\n",
        "            pipeline\n",
        "            | 'Tworzenie danych' >> beam.Create(dane_testowe)\n",
        "            | 'Filter - Liczby parzyste' >> beam.Filter(lambda x: x['wartosc'] % 2 == 0)\n",
        "            | 'Wyświetlenie Filter wyników' >> beam.Map(print)\n",
        "        )\n",
        "\n",
        "if __name__ == \"__main__\":\n",
        "    beam_test()"
      ],
      "metadata": {
        "colab": {
          "base_uri": "https://localhost:8080/"
        },
        "id": "qyk2JZ5l05OK",
        "outputId": "e98e212c-5a44-4edb-8b64-e042b88a2844"
      },
      "execution_count": 26,
      "outputs": [
        {
          "output_type": "stream",
          "name": "stdout",
          "text": [
            "{'id': 2, 'wartosc': 4, 'tekst': 'Hello world 2'}\n"
          ]
        }
      ]
    },
    {
      "cell_type": "markdown",
      "source": [
        "#beam.CombinePerKey\n",
        "\n",
        "Gdy dane są w postaci par (klucz, wartość) i chcesz połączyć wartości na podstawie kluczy (np. sumowanie, liczenie)."
      ],
      "metadata": {
        "id": "v4KD8ocf2vxv"
      }
    },
    {
      "cell_type": "code",
      "source": [
        "dane_testowe = [\n",
        "    ('cat_1', np.random.randint(1, 1_000)),\n",
        "    ('cat_2', np.random.randint(1, 1_000)),\n",
        "    ('cat_1', np.random.randint(1, 100)),\n",
        "    ('cat_2', np.random.randint(1, 100))\n",
        "]\n",
        "\n",
        "print(dane_testowe)\n",
        "type(dane_testowe)"
      ],
      "metadata": {
        "colab": {
          "base_uri": "https://localhost:8080/"
        },
        "id": "yotq0bBu2vhL",
        "outputId": "a062e866-e01e-4476-f9cf-245545d8bed4"
      },
      "execution_count": 34,
      "outputs": [
        {
          "output_type": "stream",
          "name": "stdout",
          "text": [
            "[('cat_1', 650), ('cat_2', 698), ('cat_1', 99), ('cat_2', 68)]\n"
          ]
        },
        {
          "output_type": "execute_result",
          "data": {
            "text/plain": [
              "list"
            ]
          },
          "metadata": {},
          "execution_count": 34
        }
      ]
    },
    {
      "cell_type": "code",
      "source": [
        "def beam_test():\n",
        "\n",
        "    with beam.Pipeline() as pipeline:\n",
        "        wynik_combine = (\n",
        "            pipeline\n",
        "            | 'Tworzenie danych' >> beam.Create(dane_testowe)\n",
        "            | 'CombinePerKey - Sumowanie wartości' >> beam.CombinePerKey(sum)\n",
        "            | 'Wyświetlenie CombinePerKey wyników' >> beam.Map(print)\n",
        "        )\n",
        "\n",
        "if __name__ == \"__main__\":\n",
        "    beam_test()"
      ],
      "metadata": {
        "colab": {
          "base_uri": "https://localhost:8080/"
        },
        "id": "4lc4XHeM2k0F",
        "outputId": "a164bac2-bf81-4ae6-f442-d8d01976d24e"
      },
      "execution_count": 35,
      "outputs": [
        {
          "output_type": "stream",
          "name": "stdout",
          "text": [
            "('cat_1', 749)\n",
            "('cat_2', 766)\n"
          ]
        }
      ]
    },
    {
      "cell_type": "code",
      "source": [
        "def beam_test():\n",
        "\n",
        "    with beam.Pipeline() as pipeline:\n",
        "        wynik_combine = (\n",
        "            pipeline\n",
        "            | 'Tworzenie danych' >> beam.Create(dane_testowe)\n",
        "            | 'CombinePerKey - Sumowanie wartości' >> beam.CombinePerKey(min)\n",
        "            | 'Wyświetlenie CombinePerKey wyników' >> beam.Map(print)\n",
        "        )\n",
        "\n",
        "if __name__ == \"__main__\":\n",
        "    beam_test()"
      ],
      "metadata": {
        "colab": {
          "base_uri": "https://localhost:8080/"
        },
        "id": "UACZZZX84DbO",
        "outputId": "e5a1af22-64a3-450a-fd06-6001ddea35a0"
      },
      "execution_count": 39,
      "outputs": [
        {
          "output_type": "stream",
          "name": "stdout",
          "text": [
            "('cat_1', 99)\n",
            "('cat_2', 68)\n"
          ]
        }
      ]
    },
    {
      "cell_type": "markdown",
      "source": [
        "#beam.GroupByKey\n",
        "\n",
        "Gdy chcesz grupować elementy według kluczy, ale bez ich agregacji."
      ],
      "metadata": {
        "id": "_DL3VwZc4VzR"
      }
    },
    {
      "cell_type": "code",
      "source": [
        "dane_testowe = [\n",
        "    ('cat_1', np.random.randint(1, 1_000)),\n",
        "    ('cat_2', np.random.randint(1, 1_000)),\n",
        "    ('cat_1', np.random.randint(1, 100)),\n",
        "    ('cat_2', np.random.randint(1, 100))\n",
        "]\n",
        "\n",
        "print(dane_testowe)"
      ],
      "metadata": {
        "colab": {
          "base_uri": "https://localhost:8080/"
        },
        "id": "CdNRdUa-5BeR",
        "outputId": "53ba7ad2-2ae0-4aa0-8260-f2146d299f7e"
      },
      "execution_count": 43,
      "outputs": [
        {
          "output_type": "stream",
          "name": "stdout",
          "text": [
            "[('cat_1', 817), ('cat_2', 429), ('cat_1', 33), ('cat_2', 76)]\n"
          ]
        }
      ]
    },
    {
      "cell_type": "code",
      "source": [
        "def beam_test():\n",
        "\n",
        "    with beam.Pipeline() as pipeline:\n",
        "        wynik_group_by_key = (\n",
        "            pipeline\n",
        "            | 'Tworzenie danych' >> beam.Create(dane_testowe)\n",
        "            | 'GroupByKey' >> beam.GroupByKey()\n",
        "            | 'Wyświetlenie GroupByKey wyników' >> beam.Map(print)\n",
        "        )\n",
        "\n",
        "if __name__ == \"__main__\":\n",
        "    beam_test()"
      ],
      "metadata": {
        "colab": {
          "base_uri": "https://localhost:8080/"
        },
        "id": "m-w2MCCV4UuH",
        "outputId": "1189912b-6e4a-416f-a7be-a270d73de338"
      },
      "execution_count": 40,
      "outputs": [
        {
          "output_type": "stream",
          "name": "stdout",
          "text": [
            "('cat_1', [650, 99])\n",
            "('cat_2', [698, 68])\n"
          ]
        }
      ]
    },
    {
      "cell_type": "markdown",
      "source": [
        "#beam.GroupBy\n",
        "\n",
        "Grupuje dane według klucza. Jest to przydatne w sytuacjach, w których chcesz połączyć elementy o tym samym kluczu, np. agregować dane."
      ],
      "metadata": {
        "id": "nAbUqjCo5YhO"
      }
    },
    {
      "cell_type": "code",
      "source": [
        "dane_testowe = [\n",
        "    ('cat_1', np.random.randint(1, 1_000)),\n",
        "    ('cat_2', np.random.randint(1, 1_000)),\n",
        "    ('cat_1', np.random.randint(1, 100)),\n",
        "    ('cat_2', np.random.randint(1, 100))\n",
        "]\n",
        "\n",
        "print(dane_testowe)"
      ],
      "metadata": {
        "colab": {
          "base_uri": "https://localhost:8080/"
        },
        "id": "ThW48VXE6RDk",
        "outputId": "6b6b7030-ea71-4e0b-b127-c8cb90b0cd2e"
      },
      "execution_count": 47,
      "outputs": [
        {
          "output_type": "stream",
          "name": "stdout",
          "text": [
            "[('cat_1', 752), ('cat_2', 915), ('cat_1', 32), ('cat_2', 12)]\n"
          ]
        }
      ]
    },
    {
      "cell_type": "code",
      "source": [
        "def beam_test():\n",
        "\n",
        "    with beam.Pipeline() as pipeline:\n",
        "        wynik_group_by_key = (\n",
        "            pipeline\n",
        "            | 'Tworzenie danych' >> beam.Create(dane_testowe)\n",
        "            | 'GroupByKey' >> beam.GroupBy(lambda x: x[0])\n",
        "            | 'Wyświetlenie GroupByKey wyników' >> beam.Map(print)\n",
        "        )\n",
        "\n",
        "if __name__ == \"__main__\":\n",
        "    beam_test()"
      ],
      "metadata": {
        "colab": {
          "base_uri": "https://localhost:8080/"
        },
        "id": "7aN4XDcZ59NJ",
        "outputId": "055c6b15-7be9-4385-aacf-326c68957f17"
      },
      "execution_count": 46,
      "outputs": [
        {
          "output_type": "stream",
          "name": "stdout",
          "text": [
            "('cat_1', [('cat_1', 817), ('cat_1', 33)])\n",
            "('cat_2', [('cat_2', 429), ('cat_2', 76)])\n"
          ]
        }
      ]
    },
    {
      "cell_type": "code",
      "source": [
        "dane_testowe = [\n",
        "    {'id': i, 'wartosc': np.random.randint(1, 100), 'kategoria': f'cat_{i % 2}'}\n",
        "    for i in range(5)\n",
        "]\n",
        "\n",
        "dane_testowe"
      ],
      "metadata": {
        "colab": {
          "base_uri": "https://localhost:8080/"
        },
        "id": "PCrpwkfB6aia",
        "outputId": "87a7b498-7776-4f16-d7ee-f4fba160c14c"
      },
      "execution_count": 54,
      "outputs": [
        {
          "output_type": "execute_result",
          "data": {
            "text/plain": [
              "[{'id': 0, 'wartosc': 26, 'kategoria': 'cat_0'},\n",
              " {'id': 1, 'wartosc': 75, 'kategoria': 'cat_1'},\n",
              " {'id': 2, 'wartosc': 70, 'kategoria': 'cat_0'},\n",
              " {'id': 3, 'wartosc': 50, 'kategoria': 'cat_1'},\n",
              " {'id': 4, 'wartosc': 9, 'kategoria': 'cat_0'}]"
            ]
          },
          "metadata": {},
          "execution_count": 54
        }
      ]
    },
    {
      "cell_type": "code",
      "source": [
        "def beam_test():\n",
        "\n",
        "    with beam.Pipeline() as pipeline:\n",
        "        wynik_group_by = (\n",
        "            pipeline\n",
        "            | 'Tworzenie danych' >> beam.Create(dane_testowe)\n",
        "            | 'GroupBy' >> beam.GroupBy(lambda x: x['kategoria'])\n",
        "            | 'Wyświetlanie wyników' >> beam.Map(print)\n",
        "        )\n",
        "\n",
        "if __name__ == \"__main__\":\n",
        "    beam_test()"
      ],
      "metadata": {
        "colab": {
          "base_uri": "https://localhost:8080/"
        },
        "id": "N6r7kKVw5WYC",
        "outputId": "5bc15f75-abcc-4dcb-df34-9f42ae0d38bf"
      },
      "execution_count": 55,
      "outputs": [
        {
          "output_type": "stream",
          "name": "stdout",
          "text": [
            "('cat_0', [{'id': 0, 'wartosc': 26, 'kategoria': 'cat_0'}, {'id': 2, 'wartosc': 70, 'kategoria': 'cat_0'}, {'id': 4, 'wartosc': 9, 'kategoria': 'cat_0'}])\n",
            "('cat_1', [{'id': 1, 'wartosc': 75, 'kategoria': 'cat_1'}, {'id': 3, 'wartosc': 50, 'kategoria': 'cat_1'}])\n"
          ]
        }
      ]
    },
    {
      "cell_type": "markdown",
      "source": [
        "#beam.CombineGlobally\n",
        "\n",
        "Gdy chcesz połączyć całą kolekcję w pojedynczą wartość (np. sumę, maksymalną wartość)."
      ],
      "metadata": {
        "id": "hWMK7vdd-zsZ"
      }
    },
    {
      "cell_type": "code",
      "source": [
        "dane_testowe = [np.random.randint(1, 100) for _ in range(10)]\n",
        "dane_testowe"
      ],
      "metadata": {
        "colab": {
          "base_uri": "https://localhost:8080/"
        },
        "id": "1bwXP7J-7V_F",
        "outputId": "449b178d-adb5-4a85-bfb0-8a303468a957"
      },
      "execution_count": 56,
      "outputs": [
        {
          "output_type": "execute_result",
          "data": {
            "text/plain": [
              "[31, 47, 79, 70, 18, 63, 64, 40, 99, 69]"
            ]
          },
          "metadata": {},
          "execution_count": 56
        }
      ]
    },
    {
      "cell_type": "code",
      "source": [
        "def beam_test():\n",
        "\n",
        "    with beam.Pipeline() as pipeline:\n",
        "        wynik_sumowanie = (\n",
        "            pipeline\n",
        "            | 'Tworzenie danych' >> beam.Create(dane_testowe)\n",
        "            | 'Sumowanie' >> beam.CombineGlobally(sum)\n",
        "            | 'Wyświetlanie wyników' >> beam.Map(print)\n",
        "        )\n",
        "\n",
        "if __name__ == \"__main__\":\n",
        "    beam_test()"
      ],
      "metadata": {
        "colab": {
          "base_uri": "https://localhost:8080/"
        },
        "id": "MmrTphLI7Yhr",
        "outputId": "e62a3b63-245a-4cde-ccbb-c5aed9525344"
      },
      "execution_count": 57,
      "outputs": [
        {
          "output_type": "stream",
          "name": "stdout",
          "text": [
            "580\n"
          ]
        }
      ]
    },
    {
      "cell_type": "markdown",
      "source": [
        "# beam.Distinct()\n",
        "\n",
        "Gdy chcesz zwrócić tylko unikalne elementy w kolekcji."
      ],
      "metadata": {
        "id": "A4CFJc-G_n0V"
      }
    },
    {
      "cell_type": "code",
      "source": [
        "dane_testowe = [np.random.randint(1, 10) for _ in range(20)]\n",
        "dane_testowe"
      ],
      "metadata": {
        "colab": {
          "base_uri": "https://localhost:8080/"
        },
        "id": "9_NE9yCNBjTM",
        "outputId": "b375df5e-6ff5-44bd-de18-b0521486998c"
      },
      "execution_count": 61,
      "outputs": [
        {
          "output_type": "execute_result",
          "data": {
            "text/plain": [
              "[7, 6, 5, 9, 5, 8, 1, 3, 2, 8, 1, 3, 1, 7, 8, 1, 1, 5, 2, 4]"
            ]
          },
          "metadata": {},
          "execution_count": 61
        }
      ]
    },
    {
      "cell_type": "code",
      "source": [
        "def beam_test():\n",
        "\n",
        "    with beam.Pipeline() as pipeline:\n",
        "        wynik_distinct = (\n",
        "            pipeline\n",
        "            | 'Tworzenie danych' >> beam.Create(dane_testowe)\n",
        "            | 'Usuwanie duplikatów' >> beam.Distinct()\n",
        "            | 'Wyświetlanie wyników' >> beam.Map(print)\n",
        "        )\n",
        "\n",
        "if __name__ == \"__main__\":\n",
        "    beam_test()"
      ],
      "metadata": {
        "colab": {
          "base_uri": "https://localhost:8080/"
        },
        "id": "XHTKnjueAVgP",
        "outputId": "f7145dca-ee2a-4151-b6d7-64cda08e4396"
      },
      "execution_count": 62,
      "outputs": [
        {
          "output_type": "stream",
          "name": "stdout",
          "text": [
            "7\n",
            "6\n",
            "5\n",
            "9\n",
            "8\n",
            "1\n",
            "3\n",
            "2\n",
            "4\n"
          ]
        }
      ]
    },
    {
      "cell_type": "markdown",
      "source": [
        "#beam.Flatten()\n",
        "\n",
        "Gdy masz wiele PCollection i chcesz je scalić."
      ],
      "metadata": {
        "id": "hq87acIXCgH-"
      }
    },
    {
      "cell_type": "code",
      "source": [
        "dane_testowe1 = [1, 2, 3, 4, 5]\n",
        "dane_testowe2 = [6, 7, 8, 9, 10]\n",
        "\n",
        "print(dane_testowe1, dane_testowe2)"
      ],
      "metadata": {
        "colab": {
          "base_uri": "https://localhost:8080/"
        },
        "id": "4hRhzaeVHnho",
        "outputId": "1e211851-157c-4a79-f76e-8cdd805f87f5"
      },
      "execution_count": 65,
      "outputs": [
        {
          "output_type": "stream",
          "name": "stdout",
          "text": [
            "[1, 2, 3, 4, 5] [6, 7, 8, 9, 10]\n"
          ]
        }
      ]
    },
    {
      "cell_type": "code",
      "source": [
        "def beam_test():\n",
        "\n",
        "    with beam.Pipeline() as pipeline:\n",
        "        kolekcja1 = pipeline | 'Tworzenie danych 1' >> beam.Create(dane_testowe1)\n",
        "        kolekcja2 = pipeline | 'Tworzenie danych 2' >> beam.Create(dane_testowe2)\n",
        "\n",
        "        wynik_flatten = (\n",
        "            (kolekcja1, kolekcja2)  # Przekazujemy obie kolekcje w krotce\n",
        "            | 'Połączenie kolekcji' >> beam.Flatten()\n",
        "            | 'Wyświetlanie wyników' >> beam.Map(print)\n",
        "        )\n",
        "\n",
        "if __name__ == \"__main__\":\n",
        "    beam_test()"
      ],
      "metadata": {
        "colab": {
          "base_uri": "https://localhost:8080/"
        },
        "id": "xs2VbqxQCUu8",
        "outputId": "ddf3c352-9b78-48ba-d324-eb9d20a405b8"
      },
      "execution_count": 68,
      "outputs": [
        {
          "output_type": "stream",
          "name": "stdout",
          "text": [
            "1\n",
            "2\n",
            "3\n",
            "4\n",
            "5\n",
            "6\n",
            "7\n",
            "8\n",
            "9\n",
            "10\n"
          ]
        }
      ]
    },
    {
      "cell_type": "markdown",
      "source": [
        "#beam.Partition()\n",
        "\n",
        "Pozwala na podział PCollection na dwie lub więcej części na podstawie funkcji warunkowej. Zastosujemy ją, aby rozdzielić dane na dwie grupy, np. liczby parzyste i nieparzyste."
      ],
      "metadata": {
        "id": "IHIaulYBQAVq"
      }
    },
    {
      "cell_type": "code",
      "source": [
        "def beam_test():\n",
        "\n",
        "    dane_testowe = [1, 2, 3, 4, 5, 6, 7, 8, 9, 10]\n",
        "\n",
        "    def partition_function(element, num_partitions):\n",
        "        return 0 if element % 2 == 0 else 1\n",
        "\n",
        "    with beam.Pipeline() as pipeline:\n",
        "        dane = pipeline | 'Tworzenie danych' >> beam.Create(dane_testowe)\n",
        "        podzielone_dane = (\n",
        "            dane\n",
        "            | 'Partition danych' >> beam.Partition(partition_function, 2)\n",
        "        )\n",
        "\n",
        "        podzielone_dane[0] | 'Grupa parzyste' >> beam.Map(print)  # Grupa 0: Parzyste\n",
        "        # podzielone_dane[1] | 'Grupa nieparzyste' >> beam.Map(print)  # Grupa 1: Nieparzyste\n",
        "\n",
        "# Uruchomienie testu\n",
        "if __name__ == \"__main__\":\n",
        "    beam_test()"
      ],
      "metadata": {
        "colab": {
          "base_uri": "https://localhost:8080/"
        },
        "id": "wPfBhCElQEG6",
        "outputId": "d251305c-3131-4d06-e166-e47fed1e690c"
      },
      "execution_count": 70,
      "outputs": [
        {
          "output_type": "stream",
          "name": "stdout",
          "text": [
            "2\n",
            "4\n",
            "6\n",
            "8\n",
            "10\n"
          ]
        }
      ]
    },
    {
      "cell_type": "markdown",
      "source": [
        "#beam.Reshuffle()\n",
        "\n",
        "Gdy musisz rozproszyć dane, aby uniknąć przetwarzania ich w blokach."
      ],
      "metadata": {
        "id": "mkOv6zVnRXT9"
      }
    },
    {
      "cell_type": "code",
      "source": [
        "dane_testowe = [\n",
        "    ('k1', 1), ('k2', 2), ('k1', 3), ('k2', 4),\n",
        "    ('k1', 5), ('k2', 6), ('k3', 7), ('k3', 8)\n",
        "]\n",
        "\n",
        "dane_testowe"
      ],
      "metadata": {
        "colab": {
          "base_uri": "https://localhost:8080/"
        },
        "id": "pcZaYzcJRWMj",
        "outputId": "34d27557-a001-46df-f779-1d5d3b5346e0"
      },
      "execution_count": 71,
      "outputs": [
        {
          "output_type": "execute_result",
          "data": {
            "text/plain": [
              "[('k1', 1),\n",
              " ('k2', 2),\n",
              " ('k1', 3),\n",
              " ('k2', 4),\n",
              " ('k1', 5),\n",
              " ('k2', 6),\n",
              " ('k3', 7),\n",
              " ('k3', 8)]"
            ]
          },
          "metadata": {},
          "execution_count": 71
        }
      ]
    },
    {
      "cell_type": "code",
      "source": [
        "import apache_beam as beam\n",
        "\n",
        "def beam_test():\n",
        "\n",
        "    with beam.Pipeline() as pipeline:\n",
        "        dane = pipeline | 'Tworzenie danych' >> beam.Create(dane_testowe)\n",
        "        pogrupowane_dane = (\n",
        "            dane\n",
        "            | 'GroupByKey' >> beam.GroupByKey()\n",
        "\n",
        "        # ('k1', [1, 3, 5])\n",
        "        # ('k2', [2, 4, 6])\n",
        "        # ('k3', [7, 8])\n",
        "        )\n",
        "\n",
        "        reshuffled_dane = (\n",
        "            pogrupowane_dane\n",
        "            | 'Reshuffle' >> beam.Reshuffle()\n",
        "        )\n",
        "\n",
        "        reshuffled_dane | 'Wyświetlanie wyników' >> beam.Map(print)\n",
        "\n",
        "if __name__ == \"__main__\":\n",
        "    beam_test()"
      ],
      "metadata": {
        "colab": {
          "base_uri": "https://localhost:8080/"
        },
        "id": "Q3rGnNVrSBX1",
        "outputId": "54a2fb4b-f58d-4acc-eae5-0a0099d03d24"
      },
      "execution_count": 77,
      "outputs": [
        {
          "output_type": "stream",
          "name": "stdout",
          "text": [
            "('k1', [1, 3, 5])\n",
            "('k2', [2, 4, 6])\n",
            "('k3', [7, 8])\n"
          ]
        }
      ]
    },
    {
      "cell_type": "code",
      "source": [
        "def beam_test():\n",
        "    with beam.Pipeline() as p:\n",
        "        wynik = (p\n",
        "                 | 'Tworzenie danych' >> beam.Create(dane_testowe)\n",
        "                 | 'GroupByKey' >> beam.GroupByKey()\n",
        "                 | 'Reshuffle' >> beam.Reshuffle()\n",
        "                 | 'Wyświetlanie wyników' >> beam.Map(print)\n",
        "                )\n",
        "\n",
        "if __name__ == \"__main__\":\n",
        "    beam_test()"
      ],
      "metadata": {
        "colab": {
          "base_uri": "https://localhost:8080/"
        },
        "id": "FjFFnjEyV-wd",
        "outputId": "4f311974-1837-4bf2-cc4d-6b154280305e"
      },
      "execution_count": 82,
      "outputs": [
        {
          "output_type": "stream",
          "name": "stdout",
          "text": [
            "('k1', [1, 3, 5])\n",
            "('k2', [2, 4, 6])\n",
            "('k3', [7, 8])\n"
          ]
        }
      ]
    },
    {
      "cell_type": "markdown",
      "source": [
        "#beam.WindowInto()\n",
        "\n",
        "####beam.WindowInto(beam.window.FixedWindows())\n",
        "\n",
        "####beam.WindowInto(beam.window.SlidingWindows())\n",
        "\n",
        "####beam.WindowInto(beam.window.SessionWindows())\n",
        "\n",
        "\n",
        "1.\tFixedWindows - Okna o stałej szerokości, np. 10 minut.\n",
        "2.\tSlidingWindows - Okna przesuwające się w czasie, np. okna co 5 minut, które zachodzą na siebie.\n",
        "3.\tSessionWindows - Okna o zmiennym czasie, tworzone w zależności od przerw w danych (np. jeśli dane nie napływają przez określony czas)."
      ],
      "metadata": {
        "id": "VRtRj60oWjZx"
      }
    },
    {
      "cell_type": "code",
      "source": [
        "import random\n",
        "import time\n",
        "\n",
        "dane_testowe = [\n",
        "    {\n",
        "        \"id\": i + 1,\n",
        "        \"wartosc\": random.random(),\n",
        "        \"kategoria\": f\"cat_{random.randint(0, 1)}\",\n",
        "        \"timestamp\": time.time() + (i * random.randint(5, 15)),\n",
        "    }\n",
        "    for i in range(200)\n",
        "]\n",
        "\n",
        "# for element in dane_testowe[:5]:\n",
        "#     print(element)"
      ],
      "metadata": {
        "id": "otKyurkdX8v9"
      },
      "execution_count": 174,
      "outputs": []
    },
    {
      "cell_type": "code",
      "source": [
        "from apache_beam import window\n",
        "\n",
        "def beam_test():\n",
        "    with beam.Pipeline() as pipeline:\n",
        "        dane = pipeline | 'Tworzenie danych' >> beam.Create(dane_testowe)\n",
        "\n",
        "        okienkowane_dane = (\n",
        "            dane\n",
        "            | 'Dodanie czasu' >> beam.Map(lambda x: beam.window.TimestampedValue((x['id'], x['wartosc'], x['kategoria']), x['timestamp']))\n",
        "\n",
        "            # (1, 0.8208865302950905, 'cat_1')\n",
        "            # (2, 0.4132579203461746, 'cat_0')\n",
        "            # (3, 0.8967579354470947, 'cat_1')\n",
        "\n",
        "            | 'Okna 100' >> beam.WindowInto(window.FixedWindows(3000))\n",
        "            # | 'Okna przesuwne' >> beam.WindowInto(window.SlidingWindows(size=100, period=50))\n",
        "            # | 'Okna 100' >> beam.WindowInto(window.Sessions(100))\n",
        "\n",
        "            # (1, 0.8208865302950905, 'cat_1')\n",
        "            # (2, 0.4132579203461746, 'cat_0')\n",
        "            # (3, 0.8967579354470947, 'cat_1')\n",
        "        )\n",
        "\n",
        "        grupowanie_i_agregacja = (\n",
        "            okienkowane_dane\n",
        "            | 'Kluczowanie po kategorii' >> beam.Map(lambda x: (x[2], x[1]))\n",
        "\n",
        "            # ('cat_1', 0.8208865302950905)\n",
        "            # ('cat_0', 0.4132579203461746)\n",
        "            # ('cat_1', 0.8967579354470947)\n",
        "\n",
        "\n",
        "            | 'Grupowanie po kategorii' >> beam.GroupByKey()\n",
        "\n",
        "            # ('cat_1', [0.8208865302950905, 0.8967579354470947, 0.40488050104897155, 0.25624277823085784, 0.9309313750956358, 0.13762827296879476, 0.8857082498141611, 0.4080801313041227, 0.2693505666917949, 0.8029403716771856, 0.16721599755841388, 0.8664963230135175, 0.006058765519106224, 0.6348193710941817, 0.7349182384862446, 0.5988226004736145, 0.5810971225830388, 0.4840414364917279, 0.3085641514763795, 0.04165458342389183, 0.11760090012631252, 0.1435366435017078, 0.9803522493151579, 0.937002784560225, 0.5203833943845655, 0.48977962225552063, 0.37718653771127464, 0.07529378705657797, 0.04188137092104727, 0.04287212077820035, 0.9504538627034936, 0.039079545154324435, 0.596265010035081, 0.48289492959341296, 0.1373577014104841, 0.5915893185521934, 0.3825988554161177, 0.9112290222085753, 0.3431882919579995, 0.5952882241839053, 0.24884246021443623, 0.05648683818762268, 0.6952983495813879, 0.5067949210695853, 0.8111031114966825, 0.3988546891442173, 0.9843854006278747, 0.398384458158731, 0.4112919434449749, 0.9467679807930265])\n",
        "            # ('cat_1', [0.02382173607387006, 0.11679085670957512, 0.8490925431257342, 0.5184923089400104, 0.322527952656653, 0.1483100278318743, 0.29000123310302817, 0.6379760574992583, 0.09411857357372333, 0.47121887083006075, 0.9424315033655328, 0.6147381451183167, 0.34944599742226745, 0.3493348928033251, 0.6527947312582191, 0.5438206616743676, 0.054916949043656293, 0.34723663837519514, 0.18077068116232875, 0.852931395442046, 0.07565464667395572, 0.4081073354201147, 0.4544633869101937, 0.5950981245674081, 0.27444974495957464, 0.8704126615657269, 0.19643278991872748, 0.9099779926931029, 0.6913065838499685, 0.10137884907803718, 0.3395720897605645, 0.008770174857586244, 0.8581218058752492, 0.8484204750706928, 0.7309887133295168, 0.5237481580796451, 0.5817472408260147, 0.6524139869299961, 0.9614904913167214, 0.767304535443455, 0.8559049892149401, 0.8618831509541595, 0.9240782853711129, 0.7475434225433127, 0.2523251234112388, 0.5090851586716705, 0.48676778034839197, 0.5856978161900049, 0.7827682636141176, 0.6309127598139548])\n",
        "            # ('cat_0', [0.4132579203461746, 0.4542661852741353, 0.10106765719908262, 0.5341264670927445, 0.3906231416084849, 0.1842329827690521, 0.617915256318081, 0.03336166691148579, 0.0379661291077511, 0.2764413673448034, 0.3908038849235922, 0.8582326116989138, 0.3243791020850988, 0.2664608740419603, 0.8508097977266957, 0.6320665971551271, 0.06979899200642836, 0.12645210868442514, 0.38372075009140416, 0.7207613141589994, 0.748768734132607, 0.8279338918944875, 0.3573649239680079, 0.6158273192586524, 0.3879516203709117, 0.2730709295295224, 0.38782596078220355, 0.886902364658491, 0.5278878574598045, 0.22077562632216197, 0.8592782942940868, 0.6969547118921814, 0.6504284957445998, 0.06848540034495021, 0.5907880135224097, 0.2364781034348752, 0.18853154857455423, 0.4002380704736901, 0.9111803420556258, 0.34868095843343294, 0.7623545529152449, 0.8593563159007251, 0.4409036772576135, 0.19306921443132508, 0.470033847785137, 0.09394741898323833, 0.49383052994884247, 0.5986271835707176, 0.18218564981557328])\n",
        "            # ('cat_0', [0.5728238853525344, 0.4973198429764647, 0.2987110785132351, 0.4929952324678507, 0.45389069900050716, 0.9579469525535723, 0.8507834729936409, 0.5057478999701791, 0.9858698282838334, 0.5931988547450966, 0.5857324138107346, 0.3279193855841115, 0.3687512995069525, 0.21306331872895756, 0.6450349389058686, 0.8288620390225083, 0.06521984502714162, 0.7124561347511664, 0.5107416557510998, 0.39624916827895074, 0.5695944176724781, 0.9020552126930285, 0.3342397482744728, 0.7780120119249875, 0.08667280366160135, 0.7748296178950085, 0.3663690740428891, 0.3054798594221507, 0.30219698616791635, 0.7271084577787723, 0.7055166929682977, 0.8817827219138272, 0.9216045753447937, 0.7479017877522175, 0.6679819347577385, 0.29060929495478516, 0.7129941571497572, 0.5431081816905292, 0.6031136453261778, 0.4899924134301331, 0.9342024850330184, 0.003772182283846237, 0.705258235847913, 0.6325191640867852, 0.18772943561859945, 0.42139412293253486, 0.9473607335313563, 0.7373149864711038, 0.5799717544940668, 0.975554928371184])\n",
        "\n",
        "\n",
        "            | 'Sumowanie w oknach' >> beam.Map(lambda x: (x[0], sum(x[1])))  # Sumowanie wartości w ramach grupy\n",
        "        )\n",
        "\n",
        "        grupowanie_i_agregacja | 'Wyświetlanie wyników' >> beam.Map(print)\n",
        "\n",
        "if __name__ == \"__main__\":\n",
        "    beam_test()"
      ],
      "metadata": {
        "colab": {
          "base_uri": "https://localhost:8080/"
        },
        "id": "adBwzUYjYxNN",
        "outputId": "a6cdc6fc-5462-4285-c2c9-47a99ef74d58"
      },
      "execution_count": 177,
      "outputs": [
        {
          "output_type": "stream",
          "name": "stdout",
          "text": [
            "('cat_1', 13.189968853371731)\n",
            "('cat_1', 32.40389653826267)\n",
            "('cat_0', 22.62234987073723)\n",
            "('cat_0', 33.31980960546236)\n"
          ]
        }
      ]
    },
    {
      "cell_type": "markdown",
      "source": [
        "#beam.CoGroupByKey()"
      ],
      "metadata": {
        "id": "eGO_W42P1u9P"
      }
    },
    {
      "cell_type": "code",
      "source": [
        "data_a = [\n",
        "    ('key1', 'value_A1'),\n",
        "    ('key2', 'value_A2'),\n",
        "    ('key3', 'value_A3')\n",
        "]\n",
        "\n",
        "data_b = [\n",
        "    ('key1', 'value_B1'),\n",
        "    ('key2', 'value_B2'),\n",
        "    ('key3', 'value_B3')\n",
        "]\n",
        "\n",
        "data_a[:2]"
      ],
      "metadata": {
        "colab": {
          "base_uri": "https://localhost:8080/"
        },
        "id": "Oo3Yr8yI10Lt",
        "outputId": "a0bc1367-32b2-4d73-b2da-9a59a345ae8a"
      },
      "execution_count": 179,
      "outputs": [
        {
          "output_type": "execute_result",
          "data": {
            "text/plain": [
              "[('key1', 'value_A1'), ('key2', 'value_A2')]"
            ]
          },
          "metadata": {},
          "execution_count": 179
        }
      ]
    },
    {
      "cell_type": "code",
      "source": [
        "def create_pcollections():\n",
        "    with beam.Pipeline() as p:\n",
        "\n",
        "        pc_a = (\n",
        "            p\n",
        "            | 'Create data A' >> beam.Create(data_a)\n",
        "            | 'Map A' >> beam.Map(lambda x: (x[0], x[1]))\n",
        "        )\n",
        "\n",
        "        pc_b = (\n",
        "            p\n",
        "            | 'Create data B' >> beam.Create(data_b)\n",
        "            | 'Map B' >> beam.Map(lambda x: (x[0], x[1]))\n",
        "        )\n",
        "\n",
        "        result = (\n",
        "            {'A': pc_a, 'B': pc_b}\n",
        "            | 'CoGroupByKey' >> beam.CoGroupByKey()\n",
        "            | 'Format output' >> beam.Map(lambda x: f\"Key: {x[0]}, A: {x[1]['A']}, B: {x[1]['B']}\")\n",
        "            | 'Print output' >> beam.Map(print)\n",
        "        )\n",
        "\n",
        "\n",
        "create_pcollections()"
      ],
      "metadata": {
        "colab": {
          "base_uri": "https://localhost:8080/"
        },
        "id": "5sQSjNTn1vqc",
        "outputId": "7bcfaf54-65a5-4c7c-f64c-ec9969454271"
      },
      "execution_count": 180,
      "outputs": [
        {
          "output_type": "stream",
          "name": "stdout",
          "text": [
            "Key: key1, A: ['value_A1'], B: ['value_B1']\n",
            "Key: key2, A: ['value_A2'], B: ['value_B2']\n",
            "Key: key3, A: ['value_A3'], B: ['value_B3']\n"
          ]
        }
      ]
    },
    {
      "cell_type": "markdown",
      "source": [
        "#beam.DoFn & beam.ParDo\n",
        "\n",
        "- `beam.DoFn` pozwala na definiowanie niestandardowej logiki przetwarzania danych.\n",
        "- `beam.ParDo` stosuje logikę zdefiniowaną w klasach DoFn do danych w potoku."
      ],
      "metadata": {
        "id": "t5gFck9w3phl"
      }
    },
    {
      "cell_type": "code",
      "source": [
        "class FiltrujTransakcje(beam.DoFn):\n",
        "    def __init__(self, minimalna_wartosc):\n",
        "        self.minimalna_wartosc = minimalna_wartosc\n",
        "\n",
        "    def process(self, element):\n",
        "        if element['wartosc'] >= self.minimalna_wartosc:\n",
        "            yield element\n",
        "\n",
        "class PrzeksztalcTransakcje(beam.DoFn):\n",
        "    def process(self, element):\n",
        "        wynik = {\n",
        "            'id': element['id'],\n",
        "            'wartosc': round(element['wartosc'], 2)\n",
        "        }\n",
        "        yield wynik\n",
        "\n",
        "dane_transakcyjne = [\n",
        "    {\"id\": 1, \"wartosc\": 100.5, \"kategoria\": \"A\"},\n",
        "    {\"id\": 2, \"wartosc\": 50.3, \"kategoria\": \"B\"},\n",
        "    {\"id\": 3, \"wartosc\": 200.0, \"kategoria\": \"A\"},\n",
        "    {\"id\": 4, \"wartosc\": 30.0, \"kategoria\": \"C\"},\n",
        "    {\"id\": 5, \"wartosc\": 150.2, \"kategoria\": \"B\"},\n",
        "]\n",
        "\n",
        "minimalna_wartosc = 100.0\n",
        "\n",
        "with beam.Pipeline() as pipeline:\n",
        "    wyniki = (\n",
        "        pipeline\n",
        "        | \"Tworzenie danych wejściowych\" >> beam.Create(dane_transakcyjne)\n",
        "        | \"Filtruj transakcje\" >> beam.ParDo(FiltrujTransakcje(minimalna_wartosc))\n",
        "        | \"Przekształć dane\" >> beam.ParDo(PrzeksztalcTransakcje())\n",
        "        | \"Wypisz wyniki\" >> beam.Map(print)\n",
        "    )"
      ],
      "metadata": {
        "colab": {
          "base_uri": "https://localhost:8080/",
          "height": 108
        },
        "id": "KBtn6j3K3ljk",
        "outputId": "73b6f8ee-6ad1-48f5-ece0-2a4cd9165c2a"
      },
      "execution_count": 3,
      "outputs": [
        {
          "output_type": "stream",
          "name": "stderr",
          "text": [
            "WARNING:apache_beam.runners.interactive.interactive_environment:Dependencies required for Interactive Beam PCollection visualization are not available, please use: `pip install apache-beam[interactive]` to install necessary dependencies to enable all data visualization features.\n"
          ]
        },
        {
          "output_type": "display_data",
          "data": {
            "application/javascript": [
              "\n",
              "        if (typeof window.interactive_beam_jquery == 'undefined') {\n",
              "          var jqueryScript = document.createElement('script');\n",
              "          jqueryScript.src = 'https://code.jquery.com/jquery-3.4.1.slim.min.js';\n",
              "          jqueryScript.type = 'text/javascript';\n",
              "          jqueryScript.onload = function() {\n",
              "            var datatableScript = document.createElement('script');\n",
              "            datatableScript.src = 'https://cdn.datatables.net/1.10.20/js/jquery.dataTables.min.js';\n",
              "            datatableScript.type = 'text/javascript';\n",
              "            datatableScript.onload = function() {\n",
              "              window.interactive_beam_jquery = jQuery.noConflict(true);\n",
              "              window.interactive_beam_jquery(document).ready(function($){\n",
              "                \n",
              "              });\n",
              "            }\n",
              "            document.head.appendChild(datatableScript);\n",
              "          };\n",
              "          document.head.appendChild(jqueryScript);\n",
              "        } else {\n",
              "          window.interactive_beam_jquery(document).ready(function($){\n",
              "            \n",
              "          });\n",
              "        }"
            ]
          },
          "metadata": {}
        },
        {
          "output_type": "stream",
          "name": "stdout",
          "text": [
            "{'id': 1, 'wartosc': 100.5}\n",
            "{'id': 3, 'wartosc': 200.0}\n",
            "{'id': 5, 'wartosc': 150.2}\n"
          ]
        }
      ]
    },
    {
      "cell_type": "markdown",
      "source": [
        "#beam.CombineFn\n",
        "\n",
        "- Klasa `CombineFn` do obliczania średniej"
      ],
      "metadata": {
        "id": "cYDHNfo63tir"
      }
    },
    {
      "cell_type": "code",
      "source": [
        "class ObliczSrednia(beam.CombineFn):\n",
        "    def create_accumulator(self):\n",
        "        # Inicjalizujemy akumulator w formie słownika: suma wartości i liczba elementów\n",
        "        return {'suma': 0, 'liczba': 0}\n",
        "\n",
        "    def add_input(self, accumulator, input):\n",
        "        # Dodajemy wartość transakcji do akumulatora\n",
        "        accumulator['suma'] += input['wartosc']\n",
        "        accumulator['liczba'] += 1\n",
        "        return accumulator\n",
        "\n",
        "    def merge_accumulators(self, accumulators):\n",
        "        # Łączymy wiele akumulatorów (w przypadku podziału na shardy)\n",
        "        suma = sum(acc['suma'] for acc in accumulators)\n",
        "        liczba = sum(acc['liczba'] for acc in accumulators)\n",
        "        return {'suma': suma, 'liczba': liczba}\n",
        "\n",
        "    def extract_output(self, accumulator):\n",
        "        # Wyliczamy średnią z akumulatora (suma / liczba) i zwracamy wynik\n",
        "        if accumulator['liczba'] == 0:\n",
        "            return 0  # Obsługa przypadku braku danych\n",
        "        return accumulator['suma'] / accumulator['liczba']\n",
        "\n",
        "dane_transakcyjne = [\n",
        "    {\"id\": 1, \"wartosc\": 100.5, \"kategoria\": \"A\"},\n",
        "    {\"id\": 2, \"wartosc\": 50.3, \"kategoria\": \"B\"},\n",
        "    {\"id\": 3, \"wartosc\": 200.0, \"kategoria\": \"A\"},\n",
        "    {\"id\": 4, \"wartosc\": 30.0, \"kategoria\": \"C\"},\n",
        "    {\"id\": 5, \"wartosc\": 150.2, \"kategoria\": \"B\"},\n",
        "]\n",
        "\n",
        "with beam.Pipeline() as pipeline:\n",
        "    srednia_wartosc = (\n",
        "        pipeline\n",
        "        | \"Tworzenie danych wejściowych\" >> beam.Create(dane_transakcyjne)\n",
        "        | \"Oblicz średnią\" >> beam.CombineGlobally(ObliczSrednia())  # Oblicz średnią dla całego zbioru\n",
        "        | \"Wypisz wynik\" >> beam.Map(print)\n",
        "    )"
      ],
      "metadata": {
        "colab": {
          "base_uri": "https://localhost:8080/"
        },
        "id": "NLaRIgri3nkI",
        "outputId": "3f6542da-a476-48e1-c145-f074d53ac06c"
      },
      "execution_count": 4,
      "outputs": [
        {
          "output_type": "stream",
          "name": "stdout",
          "text": [
            "106.2\n"
          ]
        }
      ]
    },
    {
      "cell_type": "markdown",
      "source": [
        "#beam.PTransform"
      ],
      "metadata": {
        "id": "D_u7sdk63xNC"
      }
    },
    {
      "cell_type": "code",
      "source": [
        "class FiltrujITransformuj(beam.PTransform):\n",
        "    def __init__(self, prog):\n",
        "        self.prog = prog\n",
        "\n",
        "    def expand(self, pcoll):\n",
        "        return (\n",
        "            pcoll\n",
        "            | \"Filtruj transakcje\" >> beam.Filter(lambda x: x[\"wartosc\"] > self.prog)\n",
        "            | \"Przekształć na format docelowy\" >> beam.Map(lambda x: {\n",
        "                \"id\": x[\"id\"],\n",
        "                \"wartosc\": x[\"wartosc\"]\n",
        "            })\n",
        "        )\n",
        "\n",
        "dane_transakcyjne = [\n",
        "    {\"id\": 1, \"wartosc\": 100.5, \"kategoria\": \"A\"},\n",
        "    {\"id\": 2, \"wartosc\": 50.3, \"kategoria\": \"B\"},\n",
        "    {\"id\": 3, \"wartosc\": 200.0, \"kategoria\": \"A\"},\n",
        "    {\"id\": 4, \"wartosc\": 30.0, \"kategoria\": \"C\"},\n",
        "    {\"id\": 5, \"wartosc\": 150.2, \"kategoria\": \"B\"},\n",
        "]\n",
        "\n",
        "\n",
        "prog_wartosci = 100.0\n",
        "\n",
        "\n",
        "with beam.Pipeline() as pipeline:\n",
        "    przetworzone_dane = (\n",
        "        pipeline\n",
        "        | \"Tworzenie danych wejściowych\" >> beam.Create(dane_transakcyjne)\n",
        "        | \"Filtruj i przekształć dane\" >> FiltrujITransformuj(prog_wartosci)\n",
        "        | \"Wypisz wynik\" >> beam.Map(print)\n",
        "    )"
      ],
      "metadata": {
        "id": "PQE5OYAz3wIV"
      },
      "execution_count": null,
      "outputs": []
    }
  ]
}